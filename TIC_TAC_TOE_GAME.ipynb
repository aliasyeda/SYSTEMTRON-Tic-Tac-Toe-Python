{
 "cells": [
  {
   "cell_type": "code",
   "execution_count": null,
   "id": "33ec645c-e3e9-4511-b18a-a92d5fa6fb62",
   "metadata": {},
   "outputs": [
    {
     "name": "stdout",
     "output_type": "stream",
     "text": [
      "Welcome to Tic Tac Toe!\n",
      "\n",
      "   |   |  \n",
      "---|---|---\n",
      "   |   |  \n",
      "---|---|---\n",
      "   |   |  \n",
      "\n"
     ]
    },
    {
     "name": "stdin",
     "output_type": "stream",
     "text": [
      "Player X, enter position (1-9):  1\n"
     ]
    },
    {
     "name": "stdout",
     "output_type": "stream",
     "text": [
      "\n",
      " X |   |  \n",
      "---|---|---\n",
      "   |   |  \n",
      "---|---|---\n",
      "   |   |  \n",
      "\n"
     ]
    },
    {
     "name": "stdin",
     "output_type": "stream",
     "text": [
      "Player O, enter position (1-9):  2\n"
     ]
    },
    {
     "name": "stdout",
     "output_type": "stream",
     "text": [
      "\n",
      " X | O |  \n",
      "---|---|---\n",
      "   |   |  \n",
      "---|---|---\n",
      "   |   |  \n",
      "\n"
     ]
    },
    {
     "name": "stdin",
     "output_type": "stream",
     "text": [
      "Player X, enter position (1-9):  4\n"
     ]
    },
    {
     "name": "stdout",
     "output_type": "stream",
     "text": [
      "\n",
      " X | O |  \n",
      "---|---|---\n",
      " X |   |  \n",
      "---|---|---\n",
      "   |   |  \n",
      "\n"
     ]
    }
   ],
   "source": [
    "# TIC TAC TOE GAME\n",
    "\n",
    "def print_board(board):\n",
    "    print(f\"\\n {board[0]} | {board[1]} | {board[2]}\")\n",
    "    print(\"---|---|---\")\n",
    "    print(f\" {board[3]} | {board[4]} | {board[5]}\")\n",
    "    print(\"---|---|---\")\n",
    "    print(f\" {board[6]} | {board[7]} | {board[8]}\\n\")\n",
    "\n",
    "def check_win(board, player):\n",
    "    win_conditions = [\n",
    "        [0,1,2], [3,4,5], [6,7,8], # rows\n",
    "        [0,3,6], [1,4,7], [2,5,8], # columns\n",
    "        [0,4,8], [2,4,6]           # diagonals\n",
    "    ]\n",
    "    for condition in win_conditions:\n",
    "        if all(board[i] == player for i in condition):\n",
    "            return True\n",
    "    return False\n",
    "\n",
    "def check_draw(board):\n",
    "    return all(cell != ' ' for cell in board)\n",
    "\n",
    "def play_game():\n",
    "    board = [' '] * 9\n",
    "    current_player = 'X'\n",
    "\n",
    "    print(\"Welcome to Tic Tac Toe!\")\n",
    "    print_board(board)\n",
    "\n",
    "    while True:\n",
    "        try:\n",
    "            move = int(input(f\"Player {current_player}, enter position (1-9): \")) - 1\n",
    "            if board[move] != ' ':\n",
    "                print(\"That spot is already taken. Try again.\")\n",
    "                continue\n",
    "            board[move] = current_player\n",
    "            print_board(board)\n",
    "\n",
    "            if check_win(board, current_player):\n",
    "                print(f\"🎉 Player {current_player} wins!\")\n",
    "                break\n",
    "            elif check_draw(board):\n",
    "                print(\"It's a draw!\")\n",
    "                break\n",
    "\n",
    "            # Switch player\n",
    "            current_player = 'O' if current_player == 'X' else 'X'\n",
    "        except (ValueError, IndexError):\n",
    "            print(\"Invalid input! Please enter a number between 1 and 9.\")\n",
    "\n",
    "# Run the game\n",
    "play_game()\n"
   ]
  },
  {
   "cell_type": "code",
   "execution_count": null,
   "id": "0935790f-2d80-4f15-969c-3fac1f55e05f",
   "metadata": {},
   "outputs": [],
   "source": []
  }
 ],
 "metadata": {
  "kernelspec": {
   "display_name": "Python 3 (ipykernel)",
   "language": "python",
   "name": "python3"
  },
  "language_info": {
   "codemirror_mode": {
    "name": "ipython",
    "version": 3
   },
   "file_extension": ".py",
   "mimetype": "text/x-python",
   "name": "python",
   "nbconvert_exporter": "python",
   "pygments_lexer": "ipython3",
   "version": "3.12.4"
  }
 },
 "nbformat": 4,
 "nbformat_minor": 5
}
